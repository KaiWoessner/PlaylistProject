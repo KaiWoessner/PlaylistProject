{
 "cells": [
  {
   "cell_type": "code",
   "execution_count": 1,
   "metadata": {},
   "outputs": [],
   "source": [
    "import pandas as pd\n",
    "import numpy as np\n",
    "\n",
    "feat = pd.read_csv('tracks_features.csv')\n",
    "artist = pd.read_csv('artists.csv')"
   ]
  },
  {
   "cell_type": "code",
   "execution_count": 2,
   "metadata": {},
   "outputs": [],
   "source": [
    "artist = artist[artist['genres'] != \"[]\"].reset_index(drop = True)\n",
    "\n",
    "feat['main_artist'] = feat['artists'].str.split(',').str[0].str.strip(\"['']\")\n",
    "\n",
    "merge_feat = feat.merge(artist, left_on='main_artist', right_on='name', how='inner')\n",
    "\n",
    "merge_feat = merge_feat[['id_x', 'name_x', 'genres', 'main_artist', 'tempo',  'year']]\n",
    "\n",
    "merge_feat.rename(columns={'id_x': 'id', 'name_x': 'name'}, inplace=True)"
   ]
  },
  {
   "cell_type": "code",
   "execution_count": 4,
   "metadata": {},
   "outputs": [],
   "source": [
    "def classify_genres(genres):\n",
    "    categories = []\n",
    "\n",
    "    # Define a list of genres you want to classify\n",
    "    genre_keywords = ['pop', 'folk', 'rock', 'emo', 'soul','indie', 'hip hop', 'trap', 'jazz', 'metal', 'alternative', 'r&b', 'dance', 'techno', 'blues', 'classical', 'country', 'funk']\n",
    "\n",
    "    # Check if any of the genre keywords appear in the genres string\n",
    "    for keyword in genre_keywords:\n",
    "        if keyword in genres.lower():\n",
    "            categories.append(keyword.lower())\n",
    "\n",
    "    if not categories:\n",
    "        return np.nan\n",
    "\n",
    "    return categories\n",
    "\n",
    "# Apply the classification function to the 'genres' column\n",
    "merge_feat['genre_categories'] = merge_feat['genres'].apply(classify_genres)\n",
    "merge_feat = merge_feat.dropna(subset=['genre_categories']).reset_index(drop = True)"
   ]
  },
  {
   "cell_type": "code",
   "execution_count": 5,
   "metadata": {},
   "outputs": [],
   "source": [
    "merge_feat = merge_feat.dropna()\n",
    "\n",
    "american_characters_pattern = r'^[a-zA-Z\\s,\\'\"\\(\\)\\[\\]]*$'\n",
    "\n",
    "# Filter rows that contain American English characters in the 'text' column\n",
    "merge_feat = merge_feat[merge_feat['name'].str.match(american_characters_pattern)].reset_index(drop = True)\n",
    "\n",
    "fin_tracks = merge_feat"
   ]
  },
  {
   "cell_type": "code",
   "execution_count": 6,
   "metadata": {},
   "outputs": [],
   "source": [
    "merge_feat.to_csv('fin_tracks.csv', index=False)"
   ]
  }
 ],
 "metadata": {
  "kernelspec": {
   "display_name": "Python 3",
   "language": "python",
   "name": "python3"
  },
  "language_info": {
   "codemirror_mode": {
    "name": "ipython",
    "version": 3
   },
   "file_extension": ".py",
   "mimetype": "text/x-python",
   "name": "python",
   "nbconvert_exporter": "python",
   "pygments_lexer": "ipython3",
   "version": "3.10.6"
  }
 },
 "nbformat": 4,
 "nbformat_minor": 2
}
